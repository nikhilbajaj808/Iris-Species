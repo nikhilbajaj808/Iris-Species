{
  "nbformat": 4,
  "nbformat_minor": 0,
  "metadata": {
    "colab": {
      "provenance": []
    },
    "kernelspec": {
      "name": "python3",
      "display_name": "Python 3"
    },
    "language_info": {
      "name": "python"
    }
  },
  "cells": [
    {
      "cell_type": "code",
      "execution_count": 1,
      "metadata": {
        "colab": {
          "base_uri": "https://localhost:8080/"
        },
        "id": "chZX_-7bI-l8",
        "outputId": "560bf30a-02d5-4aaf-c86c-e672b25dffda"
      },
      "outputs": [
        {
          "output_type": "stream",
          "name": "stdout",
          "text": [
            "Mounted at /content/drive\n"
          ]
        }
      ],
      "source": [
        "from google.colab import drive\n",
        "drive.mount('/content/drive')"
      ]
    },
    {
      "cell_type": "code",
      "source": [
        "# ✅ STEP 2: Import Required Libraries\n",
        "import pandas as pd\n",
        "from sklearn.model_selection import train_test_split\n",
        "from sklearn.preprocessing import LabelEncoder, StandardScaler\n",
        "import torch\n",
        "from torch.utils.data import TensorDataset, DataLoader\n",
        "import torch.nn as nn\n",
        "import torch.optim as optim\n",
        "import matplotlib.pyplot as plt\n"
      ],
      "metadata": {
        "id": "GMg-EsyELiAZ"
      },
      "execution_count": 7,
      "outputs": []
    },
    {
      "cell_type": "code",
      "source": [
        "# ✅ STEP 3: Load Dataset\n",
        "file_path = \"/content/drive/MyDrive/Iris species.csv\"\n",
        "df = pd.read_csv(file_path)\n",
        "\n",
        "# Optional: Show column names to verify\n",
        "print(\"📊 Dataset columns:\", df.columns)"
      ],
      "metadata": {
        "colab": {
          "base_uri": "https://localhost:8080/"
        },
        "id": "mthDeStzLlsr",
        "outputId": "1a0c04d1-305a-4ca1-b240-8a3c723ad5d6"
      },
      "execution_count": 8,
      "outputs": [
        {
          "output_type": "stream",
          "name": "stdout",
          "text": [
            "📊 Dataset columns: Index(['Id', 'SepalLengthCm', 'SepalWidthCm', 'PetalLengthCm', 'PetalWidthCm',\n",
            "       'Species'],\n",
            "      dtype='object')\n"
          ]
        }
      ]
    },
    {
      "cell_type": "code",
      "source": [
        "# ✅ STEP 4: Drop 'Id' column and Encode 'Species'\n",
        "df = df.drop('Id', axis=1)\n",
        "\n",
        "label_enc = LabelEncoder()\n",
        "df['Species'] = label_enc.fit_transform(df['Species'])  # 0, 1, 2"
      ],
      "metadata": {
        "id": "JeOqVpP3Lnhw"
      },
      "execution_count": 9,
      "outputs": []
    },
    {
      "cell_type": "code",
      "source": [
        "# ✅ STEP 5: Split Features and Target\n",
        "X = df.drop('Species', axis=1).values\n",
        "y = df['Species'].values\n",
        "\n",
        "# Normalize features\n",
        "scaler = StandardScaler()\n",
        "X = scaler.fit_transform(X)\n",
        "\n",
        "# Train-test split\n",
        "X_train, X_test, y_train, y_test = train_test_split(\n",
        "    X, y, test_size=0.2, random_state=42\n",
        ")\n",
        "\n",
        "# Convert to PyTorch tensors\n",
        "X_train = torch.tensor(X_train, dtype=torch.float32)\n",
        "X_test = torch.tensor(X_test, dtype=torch.float32)\n",
        "y_train = torch.tensor(y_train, dtype=torch.long)\n",
        "y_test = torch.tensor(y_test, dtype=torch.long)\n",
        "\n",
        "# Create DataLoaders\n",
        "train_ds = TensorDataset(X_train, y_train)\n",
        "test_ds = TensorDataset(X_test, y_test)\n",
        "\n",
        "train_loader = DataLoader(train_ds, batch_size=16, shuffle=True)\n",
        "test_loader = DataLoader(test_ds, batch_size=16)\n"
      ],
      "metadata": {
        "id": "mN7P94CwLuA0"
      },
      "execution_count": 10,
      "outputs": []
    },
    {
      "cell_type": "code",
      "source": [
        "# ✅ STEP 6: Define Neural Network\n",
        "class IrisNet(nn.Module):\n",
        "    def __init__(self):\n",
        "        super(IrisNet, self).__init__()\n",
        "        self.model = nn.Sequential(\n",
        "            nn.Linear(4, 10),\n",
        "            nn.ReLU(),\n",
        "            nn.Linear(10, 3)\n",
        "        )\n",
        "\n",
        "    def forward(self, x):\n",
        "        return self.model(x)\n",
        "\n",
        "model = IrisNet()\n"
      ],
      "metadata": {
        "id": "0_1zpJ5yL3VT"
      },
      "execution_count": 11,
      "outputs": []
    },
    {
      "cell_type": "code",
      "source": [
        "# ✅ STEP 7: Loss Function & Optimizer\n",
        "criterion = nn.CrossEntropyLoss()\n",
        "optimizer = optim.SGD(model.parameters(), lr=0.01)\n"
      ],
      "metadata": {
        "id": "qjc9UbcJL5Jp"
      },
      "execution_count": 12,
      "outputs": []
    },
    {
      "cell_type": "code",
      "source": [
        "# ✅ STEP 8: Train the Model\n",
        "train_acc_list = []\n",
        "test_acc_list = []\n",
        "\n",
        "for epoch in range(50):\n",
        "    model.train()\n",
        "    correct = total = 0\n",
        "\n",
        "    for xb, yb in train_loader:\n",
        "        outputs = model(xb)\n",
        "        loss = criterion(outputs, yb)\n",
        "\n",
        "        optimizer.zero_grad()\n",
        "        loss.backward()\n",
        "        optimizer.step()\n",
        "\n",
        "        _, predicted = torch.max(outputs.data, 1)\n",
        "        total += yb.size(0)\n",
        "        correct += (predicted == yb).sum().item()\n",
        "\n",
        "    train_acc = 100 * correct / total\n",
        "    train_acc_list.append(train_acc)\n",
        "\n",
        "    # Test Accuracy\n",
        "    model.eval()\n",
        "    correct = total = 0\n",
        "    with torch.no_grad():\n",
        "        for xb, yb in test_loader:\n",
        "            outputs = model(xb)\n",
        "            _, predicted = torch.max(outputs.data, 1)\n",
        "            total += yb.size(0)\n",
        "            correct += (predicted == yb).sum().item()\n",
        "\n",
        "    test_acc = 100 * correct / total\n",
        "    test_acc_list.append(test_acc)\n",
        "\n",
        "    print(f\"Epoch [{epoch+1}/50] | Train Acc: {train_acc:.2f}% | Test Acc: {test_acc:.2f}%\")\n"
      ],
      "metadata": {
        "colab": {
          "base_uri": "https://localhost:8080/"
        },
        "id": "NazAAz3wMAMz",
        "outputId": "8249b1f6-5733-42fc-ac8b-7912dca06301"
      },
      "execution_count": 13,
      "outputs": [
        {
          "output_type": "stream",
          "name": "stdout",
          "text": [
            "Epoch [1/50] | Train Acc: 49.17% | Test Acc: 56.67%\n",
            "Epoch [2/50] | Train Acc: 58.33% | Test Acc: 60.00%\n",
            "Epoch [3/50] | Train Acc: 59.17% | Test Acc: 63.33%\n",
            "Epoch [4/50] | Train Acc: 61.67% | Test Acc: 63.33%\n",
            "Epoch [5/50] | Train Acc: 61.67% | Test Acc: 63.33%\n",
            "Epoch [6/50] | Train Acc: 65.00% | Test Acc: 66.67%\n",
            "Epoch [7/50] | Train Acc: 66.67% | Test Acc: 73.33%\n",
            "Epoch [8/50] | Train Acc: 67.50% | Test Acc: 73.33%\n",
            "Epoch [9/50] | Train Acc: 68.33% | Test Acc: 76.67%\n",
            "Epoch [10/50] | Train Acc: 70.00% | Test Acc: 76.67%\n",
            "Epoch [11/50] | Train Acc: 71.67% | Test Acc: 80.00%\n",
            "Epoch [12/50] | Train Acc: 70.83% | Test Acc: 80.00%\n",
            "Epoch [13/50] | Train Acc: 70.83% | Test Acc: 86.67%\n",
            "Epoch [14/50] | Train Acc: 72.50% | Test Acc: 86.67%\n",
            "Epoch [15/50] | Train Acc: 72.50% | Test Acc: 90.00%\n",
            "Epoch [16/50] | Train Acc: 74.17% | Test Acc: 90.00%\n",
            "Epoch [17/50] | Train Acc: 75.83% | Test Acc: 90.00%\n",
            "Epoch [18/50] | Train Acc: 76.67% | Test Acc: 90.00%\n",
            "Epoch [19/50] | Train Acc: 78.33% | Test Acc: 90.00%\n",
            "Epoch [20/50] | Train Acc: 78.33% | Test Acc: 90.00%\n",
            "Epoch [21/50] | Train Acc: 79.17% | Test Acc: 90.00%\n",
            "Epoch [22/50] | Train Acc: 80.00% | Test Acc: 93.33%\n",
            "Epoch [23/50] | Train Acc: 79.17% | Test Acc: 93.33%\n",
            "Epoch [24/50] | Train Acc: 79.17% | Test Acc: 93.33%\n",
            "Epoch [25/50] | Train Acc: 79.17% | Test Acc: 93.33%\n",
            "Epoch [26/50] | Train Acc: 79.17% | Test Acc: 93.33%\n",
            "Epoch [27/50] | Train Acc: 79.17% | Test Acc: 93.33%\n",
            "Epoch [28/50] | Train Acc: 79.17% | Test Acc: 93.33%\n",
            "Epoch [29/50] | Train Acc: 79.17% | Test Acc: 93.33%\n",
            "Epoch [30/50] | Train Acc: 80.00% | Test Acc: 93.33%\n",
            "Epoch [31/50] | Train Acc: 80.00% | Test Acc: 93.33%\n",
            "Epoch [32/50] | Train Acc: 80.83% | Test Acc: 93.33%\n",
            "Epoch [33/50] | Train Acc: 81.67% | Test Acc: 93.33%\n",
            "Epoch [34/50] | Train Acc: 80.83% | Test Acc: 93.33%\n",
            "Epoch [35/50] | Train Acc: 81.67% | Test Acc: 93.33%\n",
            "Epoch [36/50] | Train Acc: 81.67% | Test Acc: 93.33%\n",
            "Epoch [37/50] | Train Acc: 81.67% | Test Acc: 93.33%\n",
            "Epoch [38/50] | Train Acc: 81.67% | Test Acc: 93.33%\n",
            "Epoch [39/50] | Train Acc: 81.67% | Test Acc: 93.33%\n",
            "Epoch [40/50] | Train Acc: 81.67% | Test Acc: 93.33%\n",
            "Epoch [41/50] | Train Acc: 81.67% | Test Acc: 93.33%\n",
            "Epoch [42/50] | Train Acc: 81.67% | Test Acc: 93.33%\n",
            "Epoch [43/50] | Train Acc: 81.67% | Test Acc: 93.33%\n",
            "Epoch [44/50] | Train Acc: 81.67% | Test Acc: 93.33%\n",
            "Epoch [45/50] | Train Acc: 81.67% | Test Acc: 93.33%\n",
            "Epoch [46/50] | Train Acc: 81.67% | Test Acc: 93.33%\n",
            "Epoch [47/50] | Train Acc: 81.67% | Test Acc: 93.33%\n",
            "Epoch [48/50] | Train Acc: 81.67% | Test Acc: 93.33%\n",
            "Epoch [49/50] | Train Acc: 81.67% | Test Acc: 93.33%\n",
            "Epoch [50/50] | Train Acc: 81.67% | Test Acc: 93.33%\n"
          ]
        }
      ]
    },
    {
      "cell_type": "code",
      "source": [
        "# ✅ STEP 9: Plot Accuracy\n",
        "plt.plot(train_acc_list, label='Train Accuracy')\n",
        "plt.plot(test_acc_list, label='Test Accuracy')\n",
        "plt.xlabel('Epoch')\n",
        "plt.ylabel('Accuracy (%)')\n",
        "plt.title('Train vs Test Accuracy')\n",
        "plt.legend()\n",
        "plt.grid(True)\n",
        "plt.show()\n"
      ],
      "metadata": {
        "colab": {
          "base_uri": "https://localhost:8080/",
          "height": 472
        },
        "id": "j0JPqcY8MH3Z",
        "outputId": "02899489-fce9-45c0-ba86-ccb14e6cad58"
      },
      "execution_count": 14,
      "outputs": [
        {
          "output_type": "display_data",
          "data": {
            "text/plain": [
              "<Figure size 640x480 with 1 Axes>"
            ],
            "image/png": "[encoded data removed]"
          },
          "metadata": {}
        }
      ]
    }
  ]
}